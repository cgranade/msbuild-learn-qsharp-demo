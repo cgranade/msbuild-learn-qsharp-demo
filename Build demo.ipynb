{
 "cells": [
  {
   "cell_type": "markdown",
   "metadata": {
    "slideshow": {
     "slide_type": "slide"
    }
   },
   "source": [
    "# Intro to Quantum Computing with Python and Q\\# <br> [//build 2019](https://mybuild.techcommunity.microsoft.com/sessions/77163) #\n",
    "\n",
    "Let's use Python interoperability for the [Quantum Development Kit](https://github.com/Microsoft/Quantum) to introduce users to Q\\# and quantum computing more generally.\n",
    "\n",
    "---"
   ]
  },
  {
   "cell_type": "markdown",
   "metadata": {
    "slideshow": {
     "slide_type": "skip"
    }
   },
   "source": [
    "\n",
    "Installation instructions for running this notebook on your machine can be found [here](https://docs.microsoft.com/en-ca/quantum/install-guide/python?view=qsharp-preview)."
   ]
  },
  {
   "cell_type": "markdown",
   "metadata": {
    "slideshow": {
     "slide_type": "slide"
    }
   },
   "source": [
    "Let's get started by loading the Python package for Q# interoperability called `qsharp`."
   ]
  },
  {
   "cell_type": "code",
   "execution_count": null,
   "metadata": {
    "slideshow": {
     "slide_type": "-"
    }
   },
   "outputs": [],
   "source": [
    "import qsharp\n",
    "qsharp.component_versions()"
   ]
  },
  {
   "cell_type": "markdown",
   "metadata": {
    "slideshow": {
     "slide_type": "slide"
    }
   },
   "source": [
    "## What is a qubit?"
   ]
  },
  {
   "cell_type": "markdown",
   "metadata": {},
   "source": [
    "A single qubit can be represented by a vector of 2 complex numbers* like this:\n",
    "\n",
    "$\\left|{x}\\right\\rangle = \\left[\\begin{matrix} 1 + 0\\times i \\\\0 + 0\\times i \\end{matrix}\\right]$\n",
    "\n",
    "<small>* some conditions apply</small>"
   ]
  },
  {
   "cell_type": "markdown",
   "metadata": {
    "slideshow": {
     "slide_type": "slide"
    }
   },
   "source": [
    "## What can we _do_ with a qubit?"
   ]
  },
  {
   "cell_type": "markdown",
   "metadata": {},
   "source": [
    "You can do three types of things with qubits:\n",
    "\n",
    "- Prepare a qubit\n",
    "- Do operations with a qubit\n",
    "- Measure a qubit : returns a 0 or 1"
   ]
  },
  {
   "cell_type": "markdown",
   "metadata": {
    "slideshow": {
     "slide_type": "slide"
    }
   },
   "source": [
    "### Preparing a qubit"
   ]
  },
  {
   "cell_type": "code",
   "execution_count": null,
   "metadata": {
    "slideshow": {
     "slide_type": "-"
    }
   },
   "outputs": [],
   "source": [
    "prepare_qubit = qsharp.compile(\"\"\"\n",
    "open Microsoft.Quantum.Diagnostics;\n",
    "\n",
    "operation PrepareQubit() : Unit {\n",
    "    using (qubit = Qubit()) {     // We want 1 qubit to use for our task\n",
    "            DumpMachine();         // Print out what the simulator is keeping a record of\n",
    "    }\n",
    "}\n",
    "\"\"\")"
   ]
  },
  {
   "cell_type": "code",
   "execution_count": null,
   "metadata": {
    "slideshow": {
     "slide_type": "-"
    }
   },
   "outputs": [],
   "source": [
    "prepare_qubit.simulate()"
   ]
  },
  {
   "cell_type": "markdown",
   "metadata": {
    "slideshow": {
     "slide_type": "skip"
    }
   },
   "source": [
    "You can read the above output like the vector we wrote above, where the first column is the index, the second is the real part of the vector at that position, and the second is the complex part of that vector entry."
   ]
  },
  {
   "cell_type": "markdown",
   "metadata": {
    "slideshow": {
     "slide_type": "slide"
    }
   },
   "source": [
    "What does `DumpMachine` tell us?\n",
    "\n",
    "```\n",
    "# wave function for qubits with ids (least to most significant): 0\n",
    "0:\t1\t0\n",
    "1:\t0\t0\n",
    "```\n",
    "\n",
    "This is the same ket we saw earlier!\n",
    "\n",
    "$\\left[\\begin{matrix} 1 + 0\\times i \\\\0 + 0\\times i \\end{matrix}\\right]$"
   ]
  },
  {
   "cell_type": "markdown",
   "metadata": {
    "slideshow": {
     "slide_type": "slide"
    }
   },
   "source": [
    "## Case Study: Generating quantum random numbers"
   ]
  },
  {
   "cell_type": "markdown",
   "metadata": {},
   "source": [
    "```Q#\n",
    "// build-demo.qs\n",
    "namespace Build.Demo {\n",
    "    operation Qrng() : Result {\n",
    "        using (qubit = Qubit()) {   // Preparing \n",
    "            H(qubit);               // Operation \n",
    "            return MResetZ(qubit);  // Measure and reset \n",
    "        }\n",
    "    }\n",
    "}\n",
    "```"
   ]
  },
  {
   "cell_type": "markdown",
   "metadata": {
    "slideshow": {
     "slide_type": "skip"
    }
   },
   "source": [
    "We can see that this is a '.qs' file, so it is a Q# source file and it has a number of operations and functions we can import:"
   ]
  },
  {
   "cell_type": "code",
   "execution_count": null,
   "metadata": {},
   "outputs": [],
   "source": [
    "from Build.Demo import Qrng"
   ]
  },
  {
   "cell_type": "markdown",
   "metadata": {
    "slideshow": {
     "slide_type": "slide"
    }
   },
   "source": [
    "## Understanding `Qrng`"
   ]
  },
  {
   "cell_type": "markdown",
   "metadata": {},
   "source": [
    "We can use built-in documentation as a resource."
   ]
  },
  {
   "cell_type": "code",
   "execution_count": null,
   "metadata": {
    "slideshow": {
     "slide_type": "-"
    }
   },
   "outputs": [],
   "source": [
    "?Qrng"
   ]
  },
  {
   "cell_type": "markdown",
   "metadata": {
    "slideshow": {
     "slide_type": "fragment"
    }
   },
   "source": [
    "That tells us what we can **do** with `Qrng`:"
   ]
  },
  {
   "cell_type": "code",
   "execution_count": null,
   "metadata": {
    "slideshow": {
     "slide_type": "fragment"
    }
   },
   "outputs": [],
   "source": [
    "[Qrng.simulate(verbose=False) for _ in range(10)]"
   ]
  },
  {
   "cell_type": "markdown",
   "metadata": {
    "slideshow": {
     "slide_type": "slide"
    }
   },
   "source": [
    "### Randomness brought to you by superposition!"
   ]
  },
  {
   "cell_type": "markdown",
   "metadata": {},
   "source": [
    "We can use `DumpMachine` again to understand see what the `H` operation does to our qubit."
   ]
  },
  {
   "cell_type": "code",
   "execution_count": null,
   "metadata": {
    "slideshow": {
     "slide_type": "-"
    }
   },
   "outputs": [],
   "source": [
    "Qrng.simulate(verbose=True)"
   ]
  },
  {
   "cell_type": "markdown",
   "metadata": {
    "slideshow": {
     "slide_type": "slide"
    }
   },
   "source": [
    "### So that's nice, how about more qubits?!"
   ]
  },
  {
   "cell_type": "markdown",
   "metadata": {
    "slideshow": {
     "slide_type": "slide"
    }
   },
   "source": [
    "## Operations with multiple qubits can create entanglement"
   ]
  },
  {
   "cell_type": "markdown",
   "metadata": {},
   "source": [
    "Using Q# with Python, we can also explore other quantum development concepts, like **entanglement**."
   ]
  },
  {
   "cell_type": "code",
   "execution_count": null,
   "metadata": {},
   "outputs": [],
   "source": [
    "from Build.Demo import EntangleQubits\n",
    "results = EntangleQubits.simulate(verbose=True)"
   ]
  },
  {
   "cell_type": "markdown",
   "metadata": {
    "slideshow": {
     "slide_type": "slide"
    }
   },
   "source": [
    "What does `DumpRegister` tell us this time?\n",
    "```\n",
    "# wave function for qubits with ids (least to most significant): 0;1\n",
    "0:\t0.707106781186548\t0\n",
    "1:\t0\t0\n",
    "2:\t0\t0\n",
    "3:\t0.707106781186548\t0\n",
    "```\n",
    "No matter how many times we run, both measurements are equal to each other."
   ]
  },
  {
   "cell_type": "code",
   "execution_count": null,
   "metadata": {},
   "outputs": [],
   "source": [
    "[EntangleQubits.simulate(verbose=False) for _ in range(10)]"
   ]
  },
  {
   "cell_type": "markdown",
   "metadata": {
    "slideshow": {
     "slide_type": "skip"
    }
   },
   "source": [
    "---\n",
    "\n",
    "## Toy quantum algorithim: Deutsch–Jozsa "
   ]
  },
  {
   "cell_type": "markdown",
   "metadata": {
    "slideshow": {
     "slide_type": "skip"
    }
   },
   "source": [
    "_If I had a function that had one bit input and ouput, how many different options would I have?_"
   ]
  },
  {
   "cell_type": "markdown",
   "metadata": {
    "slideshow": {
     "slide_type": "skip"
    }
   },
   "source": [
    "<figure style=\"text-align: center;\">\n",
    "    <img src=\"media/twobit.png\" width=\"60%\">\n",
    "    <caption>\n",
    "      <br>  \n",
    "        <strong>Diagram of all possible one bit functions</strong>\n",
    "    </caption>\n",
    "</figure>"
   ]
  },
  {
   "cell_type": "markdown",
   "metadata": {
    "slideshow": {
     "slide_type": "skip"
    }
   },
   "source": [
    ">#### Deutsch–Jozsa Algorithim ####\n",
    ">**Problem statement:**\n",
    ">\n",
    ">* **GIVEN:** A black box quantum operation which takes 1 input bit and produces either a 0 or a 1 as output. We are promised that the box is either _constant_ or _balanced_. \n",
    ">\t\t\t\t\t\n",
    ">* **GOAL:** to determine if the box output is _constant_ or _balanced_ by evaluating sample inputs."
   ]
  },
  {
   "cell_type": "markdown",
   "metadata": {
    "slideshow": {
     "slide_type": "skip"
    }
   },
   "source": [
    "<figure style=\"text-align: center;\">\n",
    "    <img src=\"media/twobitDJ.png\" width=\"50%\">\n",
    "    <caption>\n",
    "      <br>  \n",
    "        <strong>Global property of the one bit functions: Constant or Balanced</strong>\n",
    "    </caption>\n",
    "</figure>"
   ]
  },
  {
   "cell_type": "code",
   "execution_count": null,
   "metadata": {
    "slideshow": {
     "slide_type": "skip"
    }
   },
   "outputs": [],
   "source": [
    "available_ops['Build.DeutschJozsa']"
   ]
  },
  {
   "cell_type": "code",
   "execution_count": null,
   "metadata": {
    "slideshow": {
     "slide_type": "skip"
    }
   },
   "outputs": [],
   "source": [
    "is_zero_oracle_balanced = qsharp.compile(\"\"\"\n",
    "open Build.DeutschJozsa;\n",
    "\n",
    "operation IsZeroOracleBalanced(): Bool {\n",
    "    return IsOracleBalanced(ZeroOracle);\n",
    "}\n",
    "\"\"\")"
   ]
  },
  {
   "cell_type": "code",
   "execution_count": null,
   "metadata": {
    "slideshow": {
     "slide_type": "skip"
    }
   },
   "outputs": [],
   "source": [
    "is_zero_oracle_balanced.simulate()"
   ]
  },
  {
   "cell_type": "code",
   "execution_count": null,
   "metadata": {
    "slideshow": {
     "slide_type": "skip"
    }
   },
   "outputs": [],
   "source": [
    "is_not_oracle_balanced = qsharp.compile(\"\"\"\n",
    "open Build.DeutschJozsa;\n",
    "\n",
    "operation IsNotOracleBalanced(): Bool {\n",
    "    return IsOracleBalanced(NotOracle);\n",
    "}\n",
    "\"\"\")"
   ]
  },
  {
   "cell_type": "code",
   "execution_count": null,
   "metadata": {
    "slideshow": {
     "slide_type": "skip"
    }
   },
   "outputs": [],
   "source": [
    "is_not_oracle_balanced.simulate()"
   ]
  },
  {
   "cell_type": "code",
   "execution_count": null,
   "metadata": {
    "slideshow": {
     "slide_type": "skip"
    }
   },
   "outputs": [],
   "source": [
    "from Build.DeutschJozsa import RunDeutschJozsaAlgorithm, RunDeutschJozsaAlgorithmVerbose"
   ]
  },
  {
   "cell_type": "code",
   "execution_count": null,
   "metadata": {
    "slideshow": {
     "slide_type": "skip"
    }
   },
   "outputs": [],
   "source": [
    "RunDeutschJozsaAlgorithm.simulate()"
   ]
  },
  {
   "cell_type": "code",
   "execution_count": null,
   "metadata": {
    "slideshow": {
     "slide_type": "skip"
    }
   },
   "outputs": [],
   "source": [
    "RunDeutschJozsaAlgorithmVerbose.simulate()"
   ]
  },
  {
   "cell_type": "markdown",
   "metadata": {
    "slideshow": {
     "slide_type": "skip"
    }
   },
   "source": [
    "---\n",
    "\n",
    "## Helpful diagnostics :)"
   ]
  },
  {
   "cell_type": "code",
   "execution_count": null,
   "metadata": {
    "slideshow": {
     "slide_type": "skip"
    }
   },
   "outputs": [],
   "source": [
    "for component, version in sorted(qsharp.component_versions().items(), key=lambda x: x[0]):\n",
    "    print(f\"{component:20}{version}\")"
   ]
  },
  {
   "cell_type": "code",
   "execution_count": null,
   "metadata": {
    "slideshow": {
     "slide_type": "skip"
    }
   },
   "outputs": [],
   "source": [
    "import sys\n",
    "print(sys.version)"
   ]
  }
 ],
 "metadata": {
  "celltoolbar": "Slideshow",
  "kernelspec": {
   "display_name": "Python 3",
   "language": "python",
   "name": "python3"
  },
  "language_info": {
   "codemirror_mode": {
    "name": "ipython",
    "version": 3
   },
   "file_extension": ".py",
   "mimetype": "text/x-python",
   "name": "python",
   "nbconvert_exporter": "python",
   "pygments_lexer": "ipython3",
   "version": "3.7.1"
  }
 },
 "nbformat": 4,
 "nbformat_minor": 2
}
