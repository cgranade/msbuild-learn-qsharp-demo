{
 "cells": [
  {
   "cell_type": "markdown",
   "metadata": {},
   "source": [
    "# Intro to Quantum Computing with Python and Q\\# #\n",
    "\n",
    "This notebook uses the Python ineroperability for the [Quantum Development Kit](https://github.com/Microsoft/Quantum) to introduce users to Q\\# and quantum computing more generally. Part of [this](https://mybuild.techcommunity.microsoft.com/sessions/77163) session at Microsoft Build 2019.\n",
    "\n",
    "Installation instructions for running this notebook on your machine can be found [here](https://docs.microsoft.com/en-ca/quantum/install-guide/python?view=qsharp-preview).\n",
    "\n",
    "---"
   ]
  },
  {
   "cell_type": "markdown",
   "metadata": {},
   "source": [
    "Let's get started by loading the packages we need, including the Q# interoperability package `qsharp`."
   ]
  },
  {
   "cell_type": "code",
   "execution_count": 1,
   "metadata": {},
   "outputs": [
    {
     "data": {
      "text/plain": [
       "{'iqsharp': LooseVersion ('0.6.1905.301'),\n",
       " 'Jupyter Core': LooseVersion ('1.1.13141.0'),\n",
       " 'qsharp': LooseVersion ('0.6.1905.301')}"
      ]
     },
     "execution_count": 1,
     "metadata": {},
     "output_type": "execute_result"
    }
   ],
   "source": [
    "import numpy as np\n",
    "import matplotlib.pyplot as plt\n",
    "\n",
    "import qsharp\n",
    "qsharp.component_versions()"
   ]
  },
  {
   "cell_type": "markdown",
   "metadata": {},
   "source": [
    "## What is a Qubit?"
   ]
  },
  {
   "cell_type": "code",
   "execution_count": null,
   "metadata": {},
   "outputs": [],
   "source": [
    "do something with numpy"
   ]
  },
  {
   "cell_type": "markdown",
   "metadata": {},
   "source": [
    "From a mathematical perspective, a qubit can be represented by a vector of 2 complex numbers like this:\n",
    "\n",
    "$\\vec{x} = \\left[\\begin{matrix} 0.25 + 0\\times i \\\\0.75 + 0\\times i \\end{matrix}\\right]$\n",
    "\n",
    "We will often use short hand to label these vectors with a special notation called a ket:\n",
    "\n",
    "$\\left|x\\right>$"
   ]
  },
  {
   "cell_type": "markdown",
   "metadata": {},
   "source": [
    "## Writing Q\\# in Python"
   ]
  },
  {
   "cell_type": "markdown",
   "metadata": {},
   "source": [
    "There are 2 main ways we can use Q# code from Python. The first is we can just directly pass the source to the `qsharp.compile` method:\n",
    "\n",
    "### Method 1: pass source to compile directly"
   ]
  },
  {
   "cell_type": "code",
   "execution_count": 3,
   "metadata": {},
   "outputs": [],
   "source": [
    "prepare_qubit = qsharp.compile(\"\"\"\n",
    "open Microsoft.Quantum.Diagnostics;\n",
    "\n",
    "operation PrepareQubit() : Unit {\n",
    "    using (qubit = Qubit()) {     // We want 1 qubit to use for our task\n",
    "            DumpMachine();         // Print out what the simulator is keeping a record of\n",
    "            Reset(qubit);       // We have to return our qubit to the simulator the same way we got it\n",
    "    }\n",
    "}\n",
    "\"\"\")"
   ]
  },
  {
   "cell_type": "code",
   "execution_count": 91,
   "metadata": {},
   "outputs": [
    {
     "name": "stdout",
     "output_type": "stream",
     "text": [
      "Help on QSharpCallable in module qsharp.loader object:\n",
      "\n",
      "class QSharpCallable(builtins.object)\n",
      " |  QSharpCallable(callable_name: str, source: str)\n",
      " |  \n",
      " |  Methods defined here:\n",
      " |  \n",
      " |  __init__(self, callable_name: str, source: str)\n",
      " |      Initialize self.  See help(type(self)) for accurate signature.\n",
      " |  \n",
      " |  __repr__(self) -> str\n",
      " |      Return repr(self).\n",
      " |  \n",
      " |  estimate_resources(self, **kwargs) -> Dict[str, int]\n",
      " |  \n",
      " |  simulate(self, **kwargs) -> Any\n",
      " |      Executes this function or operation on the QuantumSimulator target\n",
      " |      machine, returning its output as a Python object.\n",
      " |  \n",
      " |  ----------------------------------------------------------------------\n",
      " |  Data descriptors defined here:\n",
      " |  \n",
      " |  __dict__\n",
      " |      dictionary for instance variables (if defined)\n",
      " |  \n",
      " |  __weakref__\n",
      " |      list of weak references to the object (if defined)\n",
      " |  \n",
      " |  ----------------------------------------------------------------------\n",
      " |  Data and other attributes defined here:\n",
      " |  \n",
      " |  __annotations__ = {'_name': <class 'str'>}\n",
      "\n"
     ]
    }
   ],
   "source": [
    "help(prepare_qubit)"
   ]
  },
  {
   "cell_type": "code",
   "execution_count": 92,
   "metadata": {},
   "outputs": [
    {
     "name": "stdout",
     "output_type": "stream",
     "text": [
      "# wave function for qubits with ids (least to most significant): 0\n",
      "0:\t1\t0\n",
      "1:\t0\t0\n"
     ]
    },
    {
     "data": {
      "text/plain": [
       "()"
      ]
     },
     "execution_count": 92,
     "metadata": {},
     "output_type": "execute_result"
    }
   ],
   "source": [
    "prepare_qubit.simulate()"
   ]
  },
  {
   "cell_type": "markdown",
   "metadata": {},
   "source": [
    "You can read the above output like the vector we wrote above, where the first column is the index, the second is the real part of the vector at that position, and the second is the complex part of that vector entry.\n",
    "\n",
    "So the printout\n",
    "```\n",
    "0:\t1\t0\n",
    "1:\t0\t0\n",
    "```\n",
    "is the same as \n",
    "$\\left[\\begin{matrix} 1 + 0\\times i \\\\0 + 0\\times i \\end{matrix}\\right]$"
   ]
  },
  {
   "cell_type": "code",
   "execution_count": 93,
   "metadata": {},
   "outputs": [
    {
     "data": {
      "text/plain": [
       "{'CNOT': 0,\n",
       " 'QubitClifford': 0,\n",
       " 'R': 0,\n",
       " 'Measure': 1,\n",
       " 'T': 0,\n",
       " 'Depth': 0,\n",
       " 'Width': 1,\n",
       " 'BorrowedWidth': 0}"
      ]
     },
     "execution_count": 93,
     "metadata": {},
     "output_type": "execute_result"
    }
   ],
   "source": [
    "prepare_qubit.estimate_resources()"
   ]
  },
  {
   "cell_type": "markdown",
   "metadata": {},
   "source": [
    "### Method 2: Loading from file"
   ]
  },
  {
   "cell_type": "markdown",
   "metadata": {},
   "source": [
    "Let's look at the contents of another file in the directory here:"
   ]
  },
  {
   "cell_type": "code",
   "execution_count": 26,
   "metadata": {},
   "outputs": [
    {
     "name": "stdout",
     "output_type": "stream",
     "text": [
      "// Copyright (c) Sarah Kaiser. All rights reserved.\n",
      "// Licensed under the MIT License.\n",
      "\n",
      "namespace Build.Demo {\n",
      "    open Microsoft.Quantum.Intrinsic;\n",
      "    open Microsoft.Quantum.Canon;\n",
      "    open Microsoft.Quantum.Diagnostics;\n",
      "    open Microsoft.Quantum.Measurement;\n",
      "\n",
      "/// # Summary\n",
      "/// Prints out the standard \"Hello, world!\" message with a\n",
      "/// bonus favorite number passed as input.\n",
      "///\n",
      "/// # Description\n",
      "/// Takes an `Int` as input and prints the standard test message \n",
      "/// as well as what integer the user likes.\n",
      "///\n",
      "/// # Input\n",
      "/// ## number\n",
      "/// The integer you think is the coolest.\n",
      "    function HelloWorld (number : Int) : Unit {\n",
      "        Message($\"Hello, world! I like the number {number}.\");\n",
      "    }\n",
      "\n",
      "/// # Summary\n",
      "/// Generates a random value from {0,1} by measuring a qubit in \n",
      "/// an equal superposition.\n",
      "///\n",
      "/// # Description\n",
      "/// Given a qubit initially in the |0âŸ© state, applies the H operation\n",
      "/// to that qubit such that it has the state (1/âˆš2) |0âŸ© + (1/âˆš2) |1âŸ©.\n",
      "/// Measurement of this state returns a One Result with probability 0.5\n",
      "/// and a Zero Result with probability 0.5.\n",
      "    operation Qrng() : Result {\n",
      "        using (qubit = Qubit()) {\n",
      "\n",
      "            H(qubit);\n",
      "        \n",
      "            return MResetZ(qubit);\n",
      "        }\n",
      "    }\n",
      "\n",
      "/// # Summary\n",
      "/// Generates a random value from {0,1} by measuring a qubit in \n",
      "/// an equal superposition, and shows the state of the simulator\n",
      "/// along the way.\n",
      "///\n",
      "/// # Description\n",
      "/// Given a qubit initially in the |0âŸ© state, applies the H operation\n",
      "/// to that qubit such that it has the state (1/âˆš2) |0âŸ© + (1/âˆš2) |1âŸ©.\n",
      "/// Measurement of this state returns a One Result with probability 0.5\n",
      "/// and a Zero Result with probability 0.5. The DumpRegister function\n",
      "/// shows the state of the prepared qubit and the qubit right before \n",
      "/// measurement.\n",
      "    operation QrngVerbose() : Result {\n",
      "        using (qubit = Qubit()) {\n",
      "        Message(\"Here is what the simulator uses to record a qubit in the 0 state:\");\n",
      "        DumpRegister((), [qubit]);\n",
      "\n",
      "        Message(\" \");\n",
      "        \n",
      "        H(qubit);\n",
      "        \n",
      "        Message(\"Here is what the simulator uses to record a superposition state:\");\n",
      "        DumpRegister((), [qubit]);\n",
      "        \n",
      "        return MResetZ(qubit);\n",
      "        }\n",
      "    }\n",
      "}\n",
      " \n"
     ]
    }
   ],
   "source": [
    "with open('build-demo.qs') as f:\n",
    "    print(f.read())"
   ]
  },
  {
   "cell_type": "markdown",
   "metadata": {},
   "source": [
    "We can see that this is a '.qs' file, so it is a Q# source file and had a number of operations and functions we can import:"
   ]
  },
  {
   "cell_type": "code",
   "execution_count": 2,
   "metadata": {},
   "outputs": [
    {
     "data": {
      "text/plain": [
       "['HelloWorld', 'Qrng', 'QrngVerbose']"
      ]
     },
     "execution_count": 2,
     "metadata": {},
     "output_type": "execute_result"
    }
   ],
   "source": [
    "qsharp.reload()\n",
    "available_ops = qsharp.get_available_operations_by_namespace()\n",
    "available_ops['Build.Demo']"
   ]
  },
  {
   "cell_type": "code",
   "execution_count": 3,
   "metadata": {},
   "outputs": [],
   "source": [
    "from Build.Demo import HelloWorld, Qrng, QrngVerbose"
   ]
  },
  {
   "cell_type": "code",
   "execution_count": 4,
   "metadata": {},
   "outputs": [],
   "source": [
    "?HelloWorld"
   ]
  },
  {
   "cell_type": "code",
   "execution_count": 5,
   "metadata": {},
   "outputs": [
    {
     "name": "stdout",
     "output_type": "stream",
     "text": [
      "Hello, world! I like the number 17.\n"
     ]
    },
    {
     "data": {
      "text/plain": [
       "()"
      ]
     },
     "execution_count": 5,
     "metadata": {},
     "output_type": "execute_result"
    }
   ],
   "source": [
    "HelloWorld.simulate(FavoriteNumber=17)"
   ]
  },
  {
   "cell_type": "code",
   "execution_count": 6,
   "metadata": {},
   "outputs": [
    {
     "name": "stdout",
     "output_type": "stream",
     "text": [
      "Here is what the simulator uses to record a qubit in the 0 state:\n",
      "# wave function for qubits with ids (least to most significant): 0\n",
      "0:\t1\t0\n",
      "1:\t0\t0\n",
      " \n",
      "Here is what the simulator uses to record a superposition state:\n",
      "# wave function for qubits with ids (least to most significant): 0\n",
      "0:\t0.707106781186548\t0\n",
      "1:\t0.707106781186548\t0\n"
     ]
    },
    {
     "data": {
      "text/plain": [
       "1"
      ]
     },
     "execution_count": 6,
     "metadata": {},
     "output_type": "execute_result"
    }
   ],
   "source": [
    "QrngVerbose.simulate()"
   ]
  },
  {
   "cell_type": "code",
   "execution_count": 7,
   "metadata": {},
   "outputs": [
    {
     "data": {
      "text/plain": [
       "[1, 0, 1, 0, 0, 1, 0, 0, 1, 0]"
      ]
     },
     "execution_count": 7,
     "metadata": {},
     "output_type": "execute_result"
    }
   ],
   "source": [
    "[Qrng.simulate() for _ in range(10)]"
   ]
  },
  {
   "cell_type": "markdown",
   "metadata": {},
   "source": [
    "---\n",
    "\n",
    "## Toy quantum algorithim: Deutsch–Jozsa "
   ]
  },
  {
   "cell_type": "markdown",
   "metadata": {},
   "source": [
    "TODO: need intro to algorithim here, and graphic"
   ]
  },
  {
   "cell_type": "markdown",
   "metadata": {},
   "source": [
    "_If I had a function that had one bit input and ouput, how many different options would I have?_"
   ]
  },
  {
   "cell_type": "markdown",
   "metadata": {},
   "source": [
    "<figure style=\"text-align: center;\">\n",
    "    <img src=\"media/twobit.png\" width=\"60%\">\n",
    "    <caption>\n",
    "      <br>  \n",
    "        <strong>Diagram of all possible one bit functions</strong>\n",
    "    </caption>\n",
    "</figure>"
   ]
  },
  {
   "cell_type": "markdown",
   "metadata": {},
   "source": [
    ">#### Deutsch–Jozsa Algorithim ####\n",
    ">**Problem statement:**\n",
    ">\n",
    ">* **GIVEN:** A black box quantum operation which takes 1 input bit and produces either a 0 or a 1 as output. We are promised that the box is either _constant_ or _balanced_. \n",
    ">\t\t\t\t\t\n",
    ">* **GOAL:** to determine if the box output is _constant_ or _balanced_ by evaluating sample inputs."
   ]
  },
  {
   "cell_type": "markdown",
   "metadata": {},
   "source": [
    "<figure style=\"text-align: center;\">\n",
    "    <img src=\"media/twobitDJ.png\" width=\"50%\">\n",
    "    <caption>\n",
    "      <br>  \n",
    "        <strong>Global property of the one bit functions: Constant or Balanced</strong>\n",
    "    </caption>\n",
    "</figure>"
   ]
  },
  {
   "cell_type": "code",
   "execution_count": 8,
   "metadata": {},
   "outputs": [
    {
     "data": {
      "text/plain": [
       "['IdOracle',\n",
       " 'IsOracleBalanced',\n",
       " 'NotOracle',\n",
       " 'OneOracle',\n",
       " 'RunDeutschJozsaAlgorithm',\n",
       " 'ZeroOracle']"
      ]
     },
     "execution_count": 8,
     "metadata": {},
     "output_type": "execute_result"
    }
   ],
   "source": [
    "available_ops['Build.DeutschJozsa']"
   ]
  },
  {
   "cell_type": "code",
   "execution_count": 9,
   "metadata": {},
   "outputs": [],
   "source": [
    "from Build.DeutschJozsa import IsOracleBalanced, NotOracle, ZeroOracle"
   ]
  },
  {
   "cell_type": "code",
   "execution_count": 13,
   "metadata": {},
   "outputs": [
    {
     "ename": "TypeError",
     "evalue": "'NotOracle' object is not callable",
     "output_type": "error",
     "traceback": [
      "\u001b[1;31m---------------------------------------------------------------------------\u001b[0m",
      "\u001b[1;31mTypeError\u001b[0m                                 Traceback (most recent call last)",
      "\u001b[1;32m<ipython-input-13-4d3f98aa5587>\u001b[0m in \u001b[0;36m<module>\u001b[1;34m\u001b[0m\n\u001b[1;32m----> 1\u001b[1;33m \u001b[0mNotOracle\u001b[0m\u001b[1;33m(\u001b[0m\u001b[1;33m)\u001b[0m\u001b[1;33m\u001b[0m\u001b[1;33m\u001b[0m\u001b[0m\n\u001b[0m",
      "\u001b[1;31mTypeError\u001b[0m: 'NotOracle' object is not callable"
     ]
    }
   ],
   "source": [
    "NotOracle"
   ]
  },
  {
   "cell_type": "code",
   "execution_count": 21,
   "metadata": {},
   "outputs": [
    {
     "name": "stderr",
     "output_type": "stream",
     "text": [
      "C:/snippet:(2,41): error QS5011: Expecting expression of type Unit. Only expressions of type Unit can be used as expression statements.\n",
      "C:/snippet:(2,1): error QS6307: Not all code paths return a value.\n"
     ]
    },
    {
     "ename": "TypeError",
     "evalue": "'NoneType' object is not iterable",
     "output_type": "error",
     "traceback": [
      "\u001b[1;31m---------------------------------------------------------------------------\u001b[0m",
      "\u001b[1;31mTypeError\u001b[0m                                 Traceback (most recent call last)",
      "\u001b[1;32m<ipython-input-21-0aafb3039aad>\u001b[0m in \u001b[0;36m<module>\u001b[1;34m\u001b[0m\n\u001b[0;32m      1\u001b[0m check_zero_oracle = qsharp.compile(\"\"\"\n\u001b[1;32m----> 2\u001b[1;33m operation IsZeroOracleBalanced(): Bool {Build.DeutschJozsa.IsOracleBalanced(Build.DeutschJozsa.ZeroOracle);}\"\"\")\n\u001b[0m",
      "\u001b[1;32mC:\\ProgramData\\Anaconda3\\lib\\site-packages\\qsharp\\__init__.py\u001b[0m in \u001b[0;36mcompile\u001b[1;34m(code)\u001b[0m\n\u001b[0;32m     54\u001b[0m     ops = [\n\u001b[0;32m     55\u001b[0m         \u001b[0mQSharpCallable\u001b[0m\u001b[1;33m(\u001b[0m\u001b[0mop\u001b[0m\u001b[1;33m,\u001b[0m \u001b[1;34m\"snippets\"\u001b[0m\u001b[1;33m)\u001b[0m\u001b[1;33m\u001b[0m\u001b[1;33m\u001b[0m\u001b[0m\n\u001b[1;32m---> 56\u001b[1;33m         \u001b[1;32mfor\u001b[0m \u001b[0mop\u001b[0m \u001b[1;32min\u001b[0m \u001b[0mclient\u001b[0m\u001b[1;33m.\u001b[0m\u001b[0mcompile\u001b[0m\u001b[1;33m(\u001b[0m\u001b[0mcode\u001b[0m\u001b[1;33m)\u001b[0m\u001b[1;33m\u001b[0m\u001b[1;33m\u001b[0m\u001b[0m\n\u001b[0m\u001b[0;32m     57\u001b[0m     ]\n\u001b[0;32m     58\u001b[0m     \u001b[1;32mif\u001b[0m \u001b[0mlen\u001b[0m\u001b[1;33m(\u001b[0m\u001b[0mops\u001b[0m\u001b[1;33m)\u001b[0m \u001b[1;33m==\u001b[0m \u001b[1;36m1\u001b[0m\u001b[1;33m:\u001b[0m\u001b[1;33m\u001b[0m\u001b[1;33m\u001b[0m\u001b[0m\n",
      "\u001b[1;31mTypeError\u001b[0m: 'NoneType' object is not iterable"
     ]
    }
   ],
   "source": [
    "check_zero_oracle = qsharp.compile(\"\"\"\n",
    "operation IsZeroOracleBalanced(): Bool {Build.DeutschJozsa.IsOracleBalanced(Build.DeutschJozsa.ZeroOracle);}\"\"\")"
   ]
  },
  {
   "cell_type": "code",
   "execution_count": 45,
   "metadata": {},
   "outputs": [],
   "source": [
    "from Build.DeutschJozsa import RunDeutschJozsaAlgorithm"
   ]
  },
  {
   "cell_type": "code",
   "execution_count": 46,
   "metadata": {},
   "outputs": [
    {
     "name": "stdout",
     "output_type": "stream",
     "text": [
      "All tests passed!\n"
     ]
    },
    {
     "data": {
      "text/plain": [
       "()"
      ]
     },
     "execution_count": 46,
     "metadata": {},
     "output_type": "execute_result"
    }
   ],
   "source": [
    "RunDeutschJozsaAlgorithm.simulate()"
   ]
  },
  {
   "cell_type": "code",
   "execution_count": null,
   "metadata": {},
   "outputs": [],
   "source": []
  },
  {
   "cell_type": "code",
   "execution_count": null,
   "metadata": {},
   "outputs": [],
   "source": []
  },
  {
   "cell_type": "markdown",
   "metadata": {},
   "source": [
    "---\n",
    "\n",
    "## Helpful diagnostics :)"
   ]
  },
  {
   "cell_type": "code",
   "execution_count": 5,
   "metadata": {},
   "outputs": [
    {
     "name": "stdout",
     "output_type": "stream",
     "text": [
      "Jupyter Core        1.1.13141.0\n",
      "iqsharp             0.6.1905.301\n",
      "qsharp              0.6.1905.301\n"
     ]
    }
   ],
   "source": [
    "for component, version in sorted(qsharp.component_versions().items(), key=lambda x: x[0]):\n",
    "    print(f\"{component:20}{version}\")"
   ]
  },
  {
   "cell_type": "code",
   "execution_count": 6,
   "metadata": {},
   "outputs": [
    {
     "name": "stdout",
     "output_type": "stream",
     "text": [
      "3.7.1 (default, Dec 10 2018, 22:54:23) [MSC v.1915 64 bit (AMD64)]\n"
     ]
    }
   ],
   "source": [
    "import sys\n",
    "print(sys.version)"
   ]
  }
 ],
 "metadata": {
  "kernelspec": {
   "display_name": "Python 3",
   "language": "python",
   "name": "python3"
  },
  "language_info": {
   "codemirror_mode": {
    "name": "ipython",
    "version": 3
   },
   "file_extension": ".py",
   "mimetype": "text/x-python",
   "name": "python",
   "nbconvert_exporter": "python",
   "pygments_lexer": "ipython3",
   "version": "3.7.1"
  }
 },
 "nbformat": 4,
 "nbformat_minor": 2
}
